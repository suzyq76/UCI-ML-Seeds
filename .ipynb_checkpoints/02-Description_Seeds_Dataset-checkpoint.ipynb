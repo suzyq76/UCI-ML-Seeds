{
 "cells": [
  {
   "cell_type": "code",
   "execution_count": 1,
   "metadata": {},
   "outputs": [],
   "source": [
    "seeds.data = read.csv(\"seeds_dataset.csv\")"
   ]
  },
  {
   "cell_type": "code",
   "execution_count": 2,
   "metadata": {},
   "outputs": [
    {
     "data": {
      "text/plain": [
       "\n",
       "Call:\n",
       "glm(formula = \"Target ~ 1 + Area + Perimeter + Compactness + Length + Width + Asymmetry + Grove\", \n",
       "    data = seeds.data)\n",
       "\n",
       "Deviance Residuals: \n",
       "     Min        1Q    Median        3Q       Max  \n",
       "-1.31887  -0.24382  -0.01955   0.24295   1.21277  \n",
       "\n",
       "Coefficients:\n",
       "             Estimate Std. Error t value Pr(>|t|)    \n",
       "(Intercept)  55.64792    7.54634   7.374 4.90e-12 ***\n",
       "Area          1.56488    0.26256   5.960 1.20e-08 ***\n",
       "Perimeter    -3.41870    0.54156  -6.313 1.87e-09 ***\n",
       "Compactness -31.97971    5.33149  -5.998 9.81e-09 ***\n",
       "Length       -2.14741    0.46110  -4.657 5.99e-06 ***\n",
       "Width         0.24688    0.78939   0.313    0.755    \n",
       "Asymmetry     0.10838    0.02327   4.658 5.97e-06 ***\n",
       "Grove         2.15089    0.20559  10.462  < 2e-16 ***\n",
       "---\n",
       "Signif. codes:  0 ‘***’ 0.001 ‘**’ 0.01 ‘*’ 0.05 ‘.’ 0.1 ‘ ’ 1\n",
       "\n",
       "(Dispersion parameter for gaussian family taken to be 0.1660733)\n",
       "\n",
       "    Null deviance: 130.99  on 198  degrees of freedom\n",
       "Residual deviance:  31.72  on 191  degrees of freedom\n",
       "  (11 observations deleted due to missingness)\n",
       "AIC: 217.3\n",
       "\n",
       "Number of Fisher Scoring iterations: 2\n"
      ]
     },
     "metadata": {},
     "output_type": "display_data"
    }
   ],
   "source": [
    "seeds.glm = glm(\"Target ~ 1 + Area + Perimeter + Compactness + Length + Width + Asymmetry + Grove\", data = seeds.data)\n",
    "summary(seeds.glm)"
   ]
  },
  {
   "cell_type": "code",
   "execution_count": 3,
   "metadata": {},
   "outputs": [
    {
     "data": {
      "text/plain": [
       "'log Lik.' -99.6512 (df=9)"
      ]
     },
     "metadata": {},
     "output_type": "display_data"
    }
   ],
   "source": [
    "logLik(seeds.glm)"
   ]
  },
  {
   "cell_type": "code",
   "execution_count": 4,
   "metadata": {},
   "outputs": [
    {
     "data": {
      "text/html": [
       "246.942152387597"
      ],
      "text/latex": [
       "246.942152387597"
      ],
      "text/markdown": [
       "246.942152387597"
      ],
      "text/plain": [
       "[1] 246.9422"
      ]
     },
     "metadata": {},
     "output_type": "display_data"
    }
   ],
   "source": [
    "BIC(seeds.glm)"
   ]
  },
  {
   "cell_type": "code",
   "execution_count": 5,
   "metadata": {},
   "outputs": [
    {
     "data": {
      "text/plain": [
       "'log Lik.' 246.9422 (df=9)"
      ]
     },
     "metadata": {},
     "output_type": "display_data"
    }
   ],
   "source": [
    "n = length(seeds.glm$fitted.values)\n",
    "p = length(coefficients(seeds.glm))\n",
    "\n",
    "likelihood = 2 * logLik(seeds.glm)\n",
    "complexity = log(n)*(p+1)\n",
    "\n",
    "bic = complexity - likelihood\n",
    "bic"
   ]
  },
  {
   "cell_type": "code",
   "execution_count": 6,
   "metadata": {},
   "outputs": [],
   "source": [
    "BIC_of_model = function (model) {\n",
    "    n = length(model$fitted.values)\n",
    "    p = length(coefficients(model))\n",
    "\n",
    "    likelihood = 2 * logLik(model)\n",
    "    complexity = log(n)*(p+1)\n",
    "\n",
    "    bic = complexity - likelihood\n",
    "    return(bic)\n",
    "}"
   ]
  },
  {
   "cell_type": "code",
   "execution_count": 7,
   "metadata": {},
   "outputs": [
    {
     "data": {
      "text/plain": [
       "'log Lik.' 246.9422 (df=9)"
      ]
     },
     "metadata": {},
     "output_type": "display_data"
    }
   ],
   "source": [
    "BIC_of_model(seeds.glm)"
   ]
  },
  {
   "cell_type": "code",
   "execution_count": 8,
   "metadata": {},
   "outputs": [],
   "source": [
    "model_1  = \"Target ~ 1 + Area + Perimeter + Compactness + Length + Width + Asymmetry + Grove\"\n",
    "model_2a = \"Target ~ 1 + Area +             Compactness + Length + Width + Asymmetry + Grove\"\n",
    "model_2b = \"Target ~ 1 + Area + Perimeter +               Length + Width + Asymmetry + Grove\"\n",
    "model_2c = \"Target ~ 1 + Area + Perimeter + Compactness +          Width + Asymmetry + Grove\"\n",
    "model_2d = \"Target ~ 1 + Area + Perimeter + Compactness + Length +         Asymmetry + Grove\"\n",
    "model_2e = \"Target ~ 1 + Area + Perimeter + Compactness + Length + Width +             Grove\"\n",
    "model_2f = \"Target ~ 1 + Area + Perimeter + Compactness + Length + Width + Asymmetry        \""
   ]
  },
  {
   "cell_type": "code",
   "execution_count": 9,
   "metadata": {},
   "outputs": [],
   "source": [
    "seeds.glm.1 = glm(model_1, data=seeds.data)\n",
    "seeds.glm.2a = glm(model_2a, data=seeds.data)\n",
    "seeds.glm.2b = glm(model_2b, data=seeds.data)\n",
    "seeds.glm.2c = glm(model_2c, data=seeds.data)\n",
    "seeds.glm.2d = glm(model_2d, data=seeds.data)\n",
    "seeds.glm.2e = glm(model_2e, data=seeds.data)\n",
    "seeds.glm.2f = glm(model_2f, data=seeds.data)"
   ]
  },
  {
   "cell_type": "code",
   "execution_count": 10,
   "metadata": {},
   "outputs": [
    {
     "name": "stdout",
     "output_type": "stream",
     "text": [
      "[1] \"model_1\"          \"246.942152387597\"\n",
      "[1] \"model_2a\"         \"279.358145369205\"\n",
      "[1] \"model_2b\"         \"334.008094594033\"\n",
      "[1] \"model_2c\"         \"263.052551365895\"\n",
      "[1] \"model_2d\"         \"241.750726273439\"\n",
      "[1] \"model_2e\"        \"263.05926376933\"\n",
      "[1] \"model_2f\"         \"458.937135824306\"\n"
     ]
    }
   ],
   "source": [
    "print(c('model_1', BIC_of_model(seeds.glm.1)))\n",
    "print(c('model_2a', BIC_of_model(seeds.glm.2a )))\n",
    "print(c('model_2b', BIC_of_model(seeds.glm.2b )))\n",
    "print(c('model_2c', BIC_of_model(seeds.glm.2c )))\n",
    "print(c('model_2d', BIC_of_model(seeds.glm.2d )))\n",
    "print(c('model_2e', BIC_of_model(seeds.glm.2e )))\n",
    "print(c('model_2f', BIC_of_model(seeds.glm.2f )))"
   ]
  },
  {
   "cell_type": "code",
   "execution_count": 11,
   "metadata": {},
   "outputs": [],
   "source": [
    "model_1  = \"Target ~ 1 + Area + Perimeter + Compactness + Length + Width + Asymmetry + Grove\"\n",
    "model_2a = \"Target ~ 1 + Area +             Compactness + Length + Width + Asymmetry + Grove\"\n",
    "model_2c = \"Target ~ 1 + Area + Perimeter + Compactness +          Width + Asymmetry + Grove\"\n",
    "model_3a = \"Target ~ 1 + Area + Perimeter +                      + Width + Asymmetry + Grove\"\n",
    "model_3b = \"Target ~ 1 + Area + Perimeter + Compactness +                  Asymmetry + Grove\"\n",
    "model_3c = \"Target ~ 1 + Area + Perimeter + Compactness + Length +         Asymmetry        \"\n",
    "model_3d = \"Target ~ 1 + Area + Perimeter + Compactness + Length + Width                    \""
   ]
  },
  {
   "cell_type": "code",
   "execution_count": 12,
   "metadata": {},
   "outputs": [],
   "source": [
    "seeds.glm.3a = glm(model_3a, data=seeds.data)\n",
    "seeds.glm.3b = glm(model_3b, data=seeds.data)\n",
    "seeds.glm.3c = glm(model_3c, data=seeds.data)\n",
    "seeds.glm.3d = glm(model_3d, data=seeds.data)"
   ]
  },
  {
   "cell_type": "code",
   "execution_count": 14,
   "metadata": {},
   "outputs": [
    {
     "name": "stdout",
     "output_type": "stream",
     "text": [
      "[1] \"model_1\"          \"246.942152387597\"\n",
      "[1] \"model_2a\"         \"263.052551365895\"\n",
      "[1] \"model_2d\"         \"241.750726273439\"\n",
      "[1] \"model_3a\"         \"376.393818585246\"\n",
      "[1] \"model_3b\"         \"259.575072490043\"\n",
      "[1] \"model_3c\"         \"454.680752932735\"\n",
      "[1] \"model_3d\"         \"454.680752932735\"\n"
     ]
    }
   ],
   "source": [
    "print(c('model_1', BIC(seeds.glm.1)))\n",
    "print(c('model_2a', BIC(seeds.glm.2c )))\n",
    "print(c('model_2d', BIC(seeds.glm.2d )))\n",
    "print(c('model_3a', BIC(seeds.glm.3a )))\n",
    "print(c('model_3b', BIC(seeds.glm.3b )))\n",
    "print(c('model_3c', BIC(seeds.glm.3c )))\n",
    "print(c('model_3d', BIC(seeds.glm.3c )))"
   ]
  },
  {
   "cell_type": "code",
   "execution_count": null,
   "metadata": {},
   "outputs": [],
   "source": [
    "The model with the lowest BIC score was the model excluding the width feature. The compactness and grove features \n",
    "are the least important.\n"
   ]
  },
  {
   "cell_type": "code",
   "execution_count": null,
   "metadata": {},
   "outputs": [],
   "source": []
  }
 ],
 "metadata": {
  "kernelspec": {
   "display_name": "R",
   "language": "R",
   "name": "ir"
  },
  "language_info": {
   "codemirror_mode": "r",
   "file_extension": ".r",
   "mimetype": "text/x-r-source",
   "name": "R",
   "pygments_lexer": "r",
   "version": "3.4.1"
  }
 },
 "nbformat": 4,
 "nbformat_minor": 2
}
